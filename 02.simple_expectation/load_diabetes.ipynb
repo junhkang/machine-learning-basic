{
 "cells": [
  {
   "cell_type": "code",
   "execution_count": 2,
   "metadata": {},
   "outputs": [],
   "source": [
    "import matplotlib\n",
    "import numpy as np;\n",
    "import matplotlib.pylab as plt\n",
    "import pandas as pd\n",
    "import sklearn as svm\n",
    "\n",
    "from sklearn.datasets import load_diabetes\n",
    "from sklearn.model_selection import train_test_split\n",
    "from sklearn.metrics import classification_report\n",
    "from sklearn.ensemble import RandomForestClassifier\n",
    "\n",
    "from sklearn.metrics import classification_report, accuracy_score\n",
    "from sklearn.tree import DecisionTreeClassifier\n",
    "from sklearn import svm\n",
    "from sklearn.linear_model import SGDClassifier\n",
    "from sklearn.linear_model import LogisticRegression\n",
    "\n",
    "diabetes = load_diabetes()\n",
    "LEARNING_RATE = 0.99\n",
    "r = 100000\n",
    "df_x = diabetes.data\n",
    "df_y = diabetes.target\n",
    "np_x = np.array(df_x)\n",
    "np_y = np.array(df_y)               #0.2            0.1         0.01            0.5                 0.001/200000\n",
    "np_x = np.delete(np_x, 9, axis=1)   #2946.4605                                  2937.2121               3554.7540\n",
    "#np_x = np.delete(np_x, 8, axis=1)   #3153.8699                  3930.6088       3100.9387              3930\n",
    "#np_x = np.delete(np_x, 7, axis=1)   #3211.1227  3290.9454       4047                            3302\n",
    "#np_x = np.delete(np_x, 6, axis=1)\n",
    "# np_x = np.delete(np_x, 5, axis=1)\n",
    "# np_x = np.delete(np_x, 4, axis=1)\n",
    "# np_x = np.delete(np_x, 3, axis=1)\n",
    "# np_x = np.delete(np_x, 2, axis=1)\n",
    "\n"
   ]
  },
  {
   "cell_type": "markdown",
   "metadata": {},
   "source": [
    "train, test 셋을 분리합니다."
   ]
  },
  {
   "cell_type": "code",
   "execution_count": 3,
   "metadata": {},
   "outputs": [],
   "source": [
    "X_train, X_test, y_train, y_test = train_test_split(np_x,\n",
    "                                                    np_y,\n",
    "                                                    test_size=0.2,\n",
    "                                                    random_state=15)\n",
    "\n"
   ]
  },
  {
   "cell_type": "markdown",
   "metadata": {},
   "source": [
    "Decision Tree Accuracy = 0.9473684210526315"
   ]
  },
  {
   "cell_type": "code",
   "execution_count": 4,
   "metadata": {},
   "outputs": [
    {
     "name": "stdout",
     "output_type": "stream",
     "text": [
      "Iteration 1000 : Loss 2951.5816\n",
      "Iteration 2000 : Loss 2946.5247\n",
      "Iteration 3000 : Loss 2942.9599\n",
      "Iteration 4000 : Loss 2939.9586\n",
      "Iteration 5000 : Loss 2937.3323\n",
      "Iteration 6000 : Loss 2934.9787\n",
      "Iteration 7000 : Loss 2932.8389\n",
      "Iteration 8000 : Loss 2930.8770\n",
      "Iteration 9000 : Loss 2929.0696\n",
      "Iteration 10000 : Loss 2927.3999\n",
      "Iteration 11000 : Loss 2925.8549\n",
      "Iteration 12000 : Loss 2924.4242\n",
      "Iteration 13000 : Loss 2923.0986\n",
      "Iteration 14000 : Loss 2921.8701\n",
      "Iteration 15000 : Loss 2920.7313\n",
      "Iteration 16000 : Loss 2919.6757\n",
      "Iteration 17000 : Loss 2918.6970\n",
      "Iteration 18000 : Loss 2917.7897\n",
      "Iteration 19000 : Loss 2916.9486\n",
      "Iteration 20000 : Loss 2916.1688\n",
      "Iteration 21000 : Loss 2915.4458\n",
      "Iteration 22000 : Loss 2914.7756\n",
      "Iteration 23000 : Loss 2914.1542\n",
      "Iteration 24000 : Loss 2913.5780\n",
      "Iteration 25000 : Loss 2913.0439\n",
      "Iteration 26000 : Loss 2912.5487\n",
      "Iteration 27000 : Loss 2912.0896\n",
      "Iteration 28000 : Loss 2911.6640\n",
      "Iteration 29000 : Loss 2911.2694\n",
      "Iteration 30000 : Loss 2910.9035\n",
      "Iteration 31000 : Loss 2910.5643\n",
      "Iteration 32000 : Loss 2910.2499\n",
      "Iteration 33000 : Loss 2909.9583\n",
      "Iteration 34000 : Loss 2909.6881\n",
      "Iteration 35000 : Loss 2909.4375\n",
      "Iteration 36000 : Loss 2909.2051\n",
      "Iteration 37000 : Loss 2908.9898\n",
      "Iteration 38000 : Loss 2908.7901\n",
      "Iteration 39000 : Loss 2908.6049\n",
      "Iteration 40000 : Loss 2908.4333\n",
      "Iteration 41000 : Loss 2908.2742\n",
      "Iteration 42000 : Loss 2908.1266\n",
      "Iteration 43000 : Loss 2907.9898\n",
      "Iteration 44000 : Loss 2907.8630\n",
      "Iteration 45000 : Loss 2907.7455\n",
      "Iteration 46000 : Loss 2907.6365\n",
      "Iteration 47000 : Loss 2907.5354\n",
      "Iteration 48000 : Loss 2907.4417\n",
      "Iteration 49000 : Loss 2907.3549\n",
      "Iteration 50000 : Loss 2907.2744\n",
      "Iteration 51000 : Loss 2907.1997\n",
      "Iteration 52000 : Loss 2907.1305\n",
      "Iteration 53000 : Loss 2907.0663\n",
      "Iteration 54000 : Loss 2907.0068\n",
      "Iteration 55000 : Loss 2906.9517\n",
      "Iteration 56000 : Loss 2906.9005\n",
      "Iteration 57000 : Loss 2906.8531\n",
      "Iteration 58000 : Loss 2906.8092\n",
      "Iteration 59000 : Loss 2906.7684\n",
      "Iteration 60000 : Loss 2906.7306\n",
      "Iteration 61000 : Loss 2906.6956\n",
      "Iteration 62000 : Loss 2906.6631\n",
      "Iteration 63000 : Loss 2906.6330\n",
      "Iteration 64000 : Loss 2906.6051\n",
      "Iteration 65000 : Loss 2906.5792\n",
      "Iteration 66000 : Loss 2906.5553\n",
      "Iteration 67000 : Loss 2906.5330\n",
      "Iteration 68000 : Loss 2906.5124\n",
      "Iteration 69000 : Loss 2906.4933\n",
      "Iteration 70000 : Loss 2906.4755\n",
      "Iteration 71000 : Loss 2906.4591\n",
      "Iteration 72000 : Loss 2906.4439\n",
      "Iteration 73000 : Loss 2906.4298\n",
      "Iteration 74000 : Loss 2906.4167\n",
      "Iteration 75000 : Loss 2906.4045\n",
      "Iteration 76000 : Loss 2906.3933\n",
      "Iteration 77000 : Loss 2906.3828\n",
      "Iteration 78000 : Loss 2906.3732\n",
      "Iteration 79000 : Loss 2906.3642\n",
      "Iteration 80000 : Loss 2906.3559\n",
      "Iteration 81000 : Loss 2906.3482\n",
      "Iteration 82000 : Loss 2906.3410\n",
      "Iteration 83000 : Loss 2906.3344\n",
      "Iteration 84000 : Loss 2906.3282\n",
      "Iteration 85000 : Loss 2906.3225\n",
      "Iteration 86000 : Loss 2906.3173\n",
      "Iteration 87000 : Loss 2906.3124\n",
      "Iteration 88000 : Loss 2906.3078\n",
      "Iteration 89000 : Loss 2906.3036\n",
      "Iteration 90000 : Loss 2906.2997\n",
      "Iteration 91000 : Loss 2906.2961\n",
      "Iteration 92000 : Loss 2906.2927\n",
      "Iteration 93000 : Loss 2906.2896\n",
      "Iteration 94000 : Loss 2906.2868\n",
      "Iteration 95000 : Loss 2906.2841\n",
      "Iteration 96000 : Loss 2906.2816\n",
      "Iteration 97000 : Loss 2906.2793\n",
      "Iteration 98000 : Loss 2906.2772\n",
      "Iteration 99000 : Loss 2906.2752\n"
     ]
    }
   ],
   "source": [
    "W = np.random.rand(len(np_x[1]))\n",
    "b = np.random.rand()\n",
    "losses = []\n",
    "\n",
    "def model(X, W, b):\n",
    "    predictions = 0\n",
    "    for i in range(len(W)):\n",
    "        predictions += X[:, i] * W[i]\n",
    "    predictions += b\n",
    "    return predictions\n",
    "\n",
    "def MSE(a, b):\n",
    "    mse = ((a - b) ** 2).mean()  # 두 값의 차이의 제곱의 평균\n",
    "    return mse\n",
    "def loss(X, W, b, y):\n",
    "    predictions = model(X, W, b)\n",
    "    L = MSE(predictions, y)\n",
    "    return L\n",
    "\n",
    "\n",
    "\n",
    "\n",
    "def gradient(X, W, b, y):\n",
    "    # N은 데이터 포인트의 개수\n",
    "    N = len(y)\n",
    "    # y_pred 준비\n",
    "    y_pred = model(X, W, b)\n",
    "    # 공식에 맞게 gradient 계산\n",
    "    dW = 1 / N * 2 * X.T.dot(y_pred - y)\n",
    "    # b의 gradient 계산\n",
    "    db = 2 * (y_pred - y).mean()\n",
    "    return dW, db\n",
    "\n",
    "for i in range(1, r):\n",
    "    dW, db = gradient(X_train, W, b, y_train)\n",
    "    W -= LEARNING_RATE * dW\n",
    "    b -= LEARNING_RATE * db\n",
    "    L = loss(X_train, W, b, y_train)\n",
    "    losses.append(L)\n",
    "    if i % 1000 == 0:\n",
    "        print('Iteration %d : Loss %0.4f' % (i, L))\n"
   ]
  },
  {
   "cell_type": "markdown",
   "metadata": {},
   "source": [
    "예측결과를 표시합니다."
   ]
  },
  {
   "cell_type": "code",
   "execution_count": 5,
   "metadata": {},
   "outputs": [
    {
     "data": {
      "image/png": "[encoded data removed]",
      "text/plain": [
       "<Figure size 432x288 with 1 Axes>"
      ]
     },
     "metadata": {
      "needs_background": "light"
     },
     "output_type": "display_data"
    }
   ],
   "source": [
    "prediction = model(X_test, W, b)\n",
    "mse = loss(X_test, W, b, y_test)\n",
    "plt.scatter(X_test[:, 0], y_test)\n",
    "plt.scatter(X_test[:, 0], prediction)\n",
    "plt.show()"
   ]
  },
  {
   "cell_type": "code",
   "execution_count": null,
   "metadata": {},
   "outputs": [],
   "source": []
  }
 ],
 "metadata": {
  "anaconda-cloud": {},
  "kernelspec": {
   "display_name": "Python 3 (ipykernel)",
   "language": "python",
   "name": "python3"
  },
  "language_info": {
   "codemirror_mode": {
    "name": "ipython",
    "version": 3
   },
   "file_extension": ".py",
   "mimetype": "text/x-python",
   "name": "python",
   "nbconvert_exporter": "python",
   "pygments_lexer": "ipython3",
   "version": "3.9.7"
  }
 },
 "nbformat": 4,
 "nbformat_minor": 4
}
