{
 "cells": [
  {
   "cell_type": "code",
   "execution_count": 2,
   "id": "d7c4ca80",
   "metadata": {},
   "outputs": [],
   "source": [
    "from konlpy.tag import Mecab\n",
    "\n",
    "mecab = Mecab()\n",
    "import os\n",
    "\n",
    "import matplotlib.pyplot as plt\n",
    "import tensorflow as tf\n",
    "import numpy as np\n",
    "\n",
    "%matplotlib inline"
   ]
  },
  {
   "cell_type": "code",
   "execution_count": 3,
   "id": "26fde705",
   "metadata": {},
   "outputs": [
    {
     "name": "stdout",
     "output_type": "stream",
     "text": [
      "Data Size: 200001\n",
      "Example:\n",
      ">> id\tdocument\tlabel\n",
      ">> 9468781\t어?생각없이 봤는데 상당한 수작.일본영화 10년내 최고로 마음에 들었다.강렬한 임팩트가 일품.\t1\n",
      ">> 6809191\t마치 바다속 , 아쿠아리움속으로 들어간듯한 느낌의 영화 어린자녀들에게 강추!!\t1\n",
      ">> 8255656\t재밌습니다.재밌습니다.\t1\n",
      ">> 8499726\t너무너무재밌게보고있어요! 중간부터 본방사수했지만 스토리가 탄탄하고 흥미진진해서 1화부터 다찾아서 봤네요 배우들 연기도 어디하나빠지는데가없네요 요새는 수백향만챙겨봐요\t1\n"
     ]
    }
   ],
   "source": [
    "import os\n",
    "path_to_file = os.getenv('HOME')+'/aiffel/sp_tokenizer/data/ratings.txt'\n",
    "\n",
    "with open(path_to_file, \"r\") as f:\n",
    "    raw = f.read().splitlines()\n",
    "\n",
    "print(\"Data Size:\", len(raw))\n",
    "\n",
    "print(\"Example:\")\n",
    "for sen in raw[0:100][::20]: print(\">>\", sen)"
   ]
  },
  {
   "cell_type": "code",
   "execution_count": 4,
   "id": "c85bc4ed",
   "metadata": {},
   "outputs": [
    {
     "name": "stdout",
     "output_type": "stream",
     "text": [
      "문장의 최단 길이: 8\n",
      "문장의 최장 길이: 156\n",
      "문장의 평균 길이: 45\n"
     ]
    },
    {
     "data": {
      "image/png": "[encoded data removed]",
      "text/plain": [
       "<Figure size 432x288 with 1 Axes>"
      ]
     },
     "metadata": {
      "needs_background": "light"
     },
     "output_type": "display_data"
    }
   ],
   "source": [
    "min_len = 999\n",
    "max_len = 0\n",
    "sum_len = 0\n",
    "\n",
    "for sen in raw:\n",
    "    length = len(sen)\n",
    "    if min_len > length: min_len = length\n",
    "    if max_len < length: max_len = length\n",
    "    sum_len += length\n",
    "\n",
    "print(\"문장의 최단 길이:\", min_len)\n",
    "print(\"문장의 최장 길이:\", max_len)\n",
    "print(\"문장의 평균 길이:\", sum_len // len(raw))\n",
    "\n",
    "sentence_length = np.zeros((max_len), dtype=int)\n",
    "\n",
    "for sen in raw:\n",
    "    sentence_length[len(sen)-1] += 1\n",
    "\n",
    "plt.bar(range(max_len), sentence_length, width=1.0)\n",
    "plt.title(\"Sentence Length Distribution\")\n",
    "plt.show()"
   ]
  },
  {
   "cell_type": "code",
   "execution_count": 5,
   "id": "87218f75",
   "metadata": {},
   "outputs": [],
   "source": [
    "def check_sentence_with_length(raw, length):\n",
    "    count = 0\n",
    "    \n",
    "    for sen in raw:\n",
    "        if len(sen) == length:\n",
    "            print(sen)\n",
    "            count += 1\n",
    "            if count > 100: return\n",
    "\n",
    "check_sentence_with_length(raw, 1)"
   ]
  },
  {
   "cell_type": "code",
   "execution_count": 6,
   "id": "08cb1329",
   "metadata": {},
   "outputs": [
    {
     "name": "stdout",
     "output_type": "stream",
     "text": [
      "Outlier Index: 13\n",
      "Outlier Index: 14\n",
      "Outlier Index: 15\n",
      "Outlier Index: 16\n",
      "Outlier Index: 17\n",
      "Outlier Index: 18\n",
      "Outlier Index: 19\n",
      "Outlier Index: 20\n",
      "Outlier Index: 21\n",
      "Outlier Index: 22\n",
      "Outlier Index: 23\n",
      "Outlier Index: 24\n",
      "Outlier Index: 25\n",
      "Outlier Index: 26\n",
      "Outlier Index: 27\n",
      "Outlier Index: 28\n",
      "Outlier Index: 29\n",
      "Outlier Index: 30\n",
      "Outlier Index: 31\n",
      "Outlier Index: 32\n",
      "Outlier Index: 33\n",
      "Outlier Index: 34\n",
      "Outlier Index: 35\n",
      "Outlier Index: 36\n",
      "Outlier Index: 37\n",
      "Outlier Index: 38\n",
      "Outlier Index: 39\n",
      "Outlier Index: 40\n",
      "Outlier Index: 41\n",
      "Outlier Index: 42\n",
      "Outlier Index: 43\n",
      "Outlier Index: 44\n",
      "Outlier Index: 45\n",
      "Outlier Index: 46\n",
      "Outlier Index: 47\n",
      "Outlier Index: 48\n",
      "Outlier Index: 49\n",
      "Outlier Index: 50\n",
      "Outlier Index: 51\n",
      "Outlier Index: 52\n",
      "Outlier Index: 53\n",
      "Outlier Index: 54\n",
      "Outlier Index: 55\n",
      "Outlier Index: 56\n",
      "Outlier Index: 57\n"
     ]
    }
   ],
   "source": [
    "for idx, _sum in enumerate(sentence_length):\n",
    "    # 문장의 수가 1500을 초과하는 문장 길이를 추출합니다.\n",
    "    if _sum > 1500:\n",
    "        print(\"Outlier Index:\", idx+1)"
   ]
  },
  {
   "cell_type": "code",
   "execution_count": 7,
   "id": "15361bac",
   "metadata": {},
   "outputs": [
    {
     "name": "stdout",
     "output_type": "stream",
     "text": [
      "7477618\t굿\t1\n",
      "5458245\t핡\t1\n",
      "3946738\t굿\t1\n",
      "7910238\t휴\t1\n",
      "6924850\t굿\t1\n",
      "7804013\tㅋ\t1\n",
      "5666738\tㅇ\t1\n",
      "3003689\t굿\t1\n",
      "7830757\t‥\t1\n",
      "6876426\tO\t1\n",
      "773168\t수작\t1\n",
      "3867260\t굿\t1\n",
      "7250157\t굿\t1\n",
      "7403577\t갑\t1\n",
      "7505484\tㅎ\t1\n",
      "7483267\t굿\t1\n",
      "7281794\t.\t1\n",
      "117697\t맞아\t1\n",
      "7225800\t올\t1\n",
      "7721830\t굿\t1\n",
      "7684134\t헷\t1\n",
      "971290\t명작\t1\n",
      "1426659\tg\t1\n",
      "8012399\t굿\t1\n",
      "261233\t오우\t1\n",
      "7499560\t♥\t1\n",
      "7764304\t.\t1\n",
      "4483055\t짱\t1\n",
      "4321484\t짱\t1\n",
      "7317454\tㅆ\t1\n",
      "7863935\t.\t1\n",
      "7723058\t굿\t1\n",
      "7125585\t짱\t1\n",
      "6813098\t굿\t1\n",
      "7236009\t.\t1\n",
      "4746939\t굿\t1\n",
      "6297864\t굿\t1\n",
      "7523848\t굿\t1\n",
      "100226\tgg\t1\n",
      "7083655\t.\t1\n",
      "3891011\t짱\t1\n",
      "7489303\t굳\t1\n",
      "7436370\t굿\t1\n",
      "5967897\t잼\t1\n",
      "7903489\t굿\t1\n",
      "3339077\t짱\t1\n",
      "283968\t후훗\t1\n",
      "3774728\t굿\t1\n",
      "3382434\t굿\t1\n",
      "7927389\tㅎ\t1\n",
      "6556188\t굿\t1\n",
      "150372\t나두\t1\n",
      "7677681\t굿\t1\n",
      "1815836\t굿\t1\n",
      "5277532\tㅁ\t1\n",
      "632718\t^^\t1\n",
      "7264736\t굳\t1\n",
      "6365131\t굿\t1\n",
      "5978698\t굿\t1\n",
      "6959675\t?\t1\n",
      "7863562\tㅎ\t1\n",
      "3945553\t굿\t1\n",
      "4319568\t굿\t1\n",
      "7221937\t.\t1\n",
      "7945393\t짱\t1\n",
      "4493033\tㅇ\t1\n",
      "7330348\tㅋ\t1\n",
      "4016750\t애\t1\n",
      "7143066\tㅋ\t1\n",
      "1447283\t굿\t1\n",
      "7338439\t?\t1\n",
      "79940\t^-^\t1\n",
      "7284441\t짱\t1\n",
      "7734153\t.\t1\n",
      "7104728\t흠\t1\n",
      "1403313\t굿\t1\n",
      "7474858\tㅋ\t1\n",
      "7533249\t찜\t1\n",
      "565434\t조앙\t1\n",
      "453949\t멋져\t1\n",
      "6898989\tb\t1\n",
      "7516020\t굿\t1\n",
      "6805929\t굳\t1\n",
      "7172398\t짱\t1\n",
      "7738495\t짱\t1\n",
      "3339075\t짱\t1\n",
      "5907584\t짱\t1\n",
      "7871392\t굿\t1\n",
      "6002763\t굿\t1\n",
      "7445412\t짱\t1\n",
      "3914028\t굿\t1\n",
      "7868198\t,\t1\n",
      "7282221\t♥\t1\n",
      "733002\t^^\t1\n",
      "7782812\t굳\t1\n",
      "7885266\t.\t1\n",
      "7878343\t굿\t1\n",
      "7088435\t굳\t1\n",
      "7936225\tㅎ\t1\n",
      "7756897\t굿\t1\n",
      "6335829\t굿\t1\n"
     ]
    }
   ],
   "source": [
    "check_sentence_with_length(raw, 11)"
   ]
  },
  {
   "cell_type": "code",
   "execution_count": 8,
   "id": "698ee433",
   "metadata": {},
   "outputs": [
    {
     "name": "stdout",
     "output_type": "stream",
     "text": [
      "Data Size: 200001\n",
      "문장의 최단 길이: 8\n",
      "문장의 최장 길이: 156\n",
      "문장의 평균 길이: 45\n"
     ]
    },
    {
     "data": {
      "image/png": "[encoded data removed]",
      "text/plain": [
       "<Figure size 432x288 with 1 Axes>"
      ]
     },
     "metadata": {
      "needs_background": "light"
     },
     "output_type": "display_data"
    }
   ],
   "source": [
    "min_len = 999\n",
    "max_len = 0\n",
    "sum_len = 0\n",
    "\n",
    "cleaned_corpus = list(set(raw))  # set를 사용해서 중복을 제거합니다.\n",
    "print(\"Data Size:\", len(cleaned_corpus))\n",
    "\n",
    "for sen in cleaned_corpus:\n",
    "    length = len(sen)\n",
    "    if min_len > length: min_len = length\n",
    "    if max_len < length: max_len = length\n",
    "    sum_len += length\n",
    "\n",
    "print(\"문장의 최단 길이:\", min_len)\n",
    "print(\"문장의 최장 길이:\", max_len)\n",
    "print(\"문장의 평균 길이:\", sum_len // len(cleaned_corpus))\n",
    "\n",
    "sentence_length = np.zeros((max_len), dtype=int)\n",
    "\n",
    "for sen in cleaned_corpus:   # 중복이 제거된 코퍼스 기준\n",
    "    sentence_length[len(sen)-1] += 1\n",
    "\n",
    "plt.bar(range(max_len), sentence_length, width=1.0)\n",
    "plt.title(\"Sentence Length Distribution\")\n",
    "plt.show()"
   ]
  },
  {
   "cell_type": "code",
   "execution_count": 9,
   "id": "f443dc11",
   "metadata": {},
   "outputs": [
    {
     "name": "stdout",
     "output_type": "stream",
     "text": [
      "Data Size: 200001\n",
      "문장의 최단 길이: 8\n",
      "문장의 최장 길이: 156\n",
      "문장의 평균 길이: 45\n"
     ]
    },
    {
     "data": {
      "image/png": "[encoded data removed]",
      "text/plain": [
       "<Figure size 432x288 with 1 Axes>"
      ]
     },
     "metadata": {
      "needs_background": "light"
     },
     "output_type": "display_data"
    }
   ],
   "source": [
    "min_len = 999\n",
    "max_len = 0\n",
    "sum_len = 0\n",
    "\n",
    "cleaned_corpus = list(set(raw))  # set를 사용해서 중복을 제거합니다.\n",
    "print(\"Data Size:\", len(cleaned_corpus))\n",
    "\n",
    "for sen in cleaned_corpus:\n",
    "    length = len(sen)\n",
    "    if min_len > length: min_len = length\n",
    "    if max_len < length: max_len = length\n",
    "    sum_len += length\n",
    "\n",
    "print(\"문장의 최단 길이:\", min_len)\n",
    "print(\"문장의 최장 길이:\", max_len)\n",
    "print(\"문장의 평균 길이:\", sum_len // len(cleaned_corpus))\n",
    "\n",
    "sentence_length = np.zeros((max_len), dtype=int)\n",
    "\n",
    "for sen in cleaned_corpus:   # 중복이 제거된 코퍼스 기준\n",
    "    sentence_length[len(sen)-1] += 1\n",
    "\n",
    "plt.bar(range(max_len), sentence_length, width=1.0)\n",
    "plt.title(\"Sentence Length Distribution\")\n",
    "plt.show()"
   ]
  },
  {
   "cell_type": "code",
   "execution_count": 10,
   "id": "19b3e9ec",
   "metadata": {},
   "outputs": [
    {
     "data": {
      "image/png": "[encoded data removed]",
      "text/plain": [
       "<Figure size 432x288 with 1 Axes>"
      ]
     },
     "metadata": {
      "needs_background": "light"
     },
     "output_type": "display_data"
    }
   ],
   "source": [
    "max_len = 100\n",
    "min_len = 5\n",
    "\n",
    "# 길이 조건에 맞는 문장만 선택합니다.\n",
    "filtered_corpus = [s for s in cleaned_corpus if (len(s) < max_len) & (len(s) >= min_len)]\n",
    "\n",
    "# 분포도를 다시 그려봅니다.\n",
    "sentence_length = np.zeros((max_len), dtype=int)\n",
    "\n",
    "for sen in filtered_corpus:\n",
    "    sentence_length[len(sen)-1] += 1\n",
    "\n",
    "plt.bar(range(max_len), sentence_length, width=1.0)\n",
    "plt.title(\"Sentence Length Distribution\")\n",
    "plt.show()"
   ]
  },
  {
   "cell_type": "code",
   "execution_count": 11,
   "id": "d2714e8f",
   "metadata": {},
   "outputs": [],
   "source": [
    "def tokenize(corpus):  # corpus: Tokenized Sentence's List\n",
    "    tokenizer = tf.keras.preprocessing.text.Tokenizer(filters='')\n",
    "    tokenizer.fit_on_texts(corpus)\n",
    "\n",
    "    tensor = tokenizer.texts_to_sequences(corpus)\n",
    "\n",
    "    tensor = tf.keras.preprocessing.sequence.pad_sequences(tensor, padding='post')\n",
    "\n",
    "    return tensor, tokenizer"
   ]
  },
  {
   "cell_type": "code",
   "execution_count": 12,
   "id": "4ad165f2",
   "metadata": {},
   "outputs": [],
   "source": [
    "split_corpus = []\n",
    "\n",
    "for kor in filtered_corpus:\n",
    "    split_corpus.append(kor.split())"
   ]
  },
  {
   "cell_type": "code",
   "execution_count": 13,
   "id": "07461141",
   "metadata": {},
   "outputs": [
    {
     "name": "stdout",
     "output_type": "stream",
     "text": [
      "Split Vocab Size: 538133\n"
     ]
    }
   ],
   "source": [
    "split_tensor, split_tokenizer = tokenize(split_corpus)\n",
    "\n",
    "print(\"Split Vocab Size:\", len(split_tokenizer.index_word))"
   ]
  },
  {
   "cell_type": "code",
   "execution_count": 14,
   "id": "7a8914c2",
   "metadata": {},
   "outputs": [
    {
     "name": "stdout",
     "output_type": "stream",
     "text": [
      "0 : 1\n",
      "1 : 0\n",
      "2 : 영화\n",
      "3 : 너무\n",
      "4 : 정말\n",
      "5 : 진짜\n",
      "6 : 이\n",
      "7 : 영화.\n",
      "8 : 왜\n",
      "9 : 이런\n",
      "10 : 그냥\n",
      "11 : 더\n"
     ]
    }
   ],
   "source": [
    "#단어사전 확인\n",
    "for idx, word in enumerate(split_tokenizer.word_index):\n",
    "    print(idx, \":\", word)\n",
    "\n",
    "    if idx > 10: break"
   ]
  },
  {
   "cell_type": "code",
   "execution_count": 15,
   "id": "9b8dffd8",
   "metadata": {},
   "outputs": [],
   "source": [
    "def mecab_split(sentence):\n",
    "    return mecab.morphs(sentence)\n",
    "\n",
    "mecab_corpus = []\n",
    "\n",
    "for kor in filtered_corpus:\n",
    "    mecab_corpus.append(mecab_split(kor))"
   ]
  },
  {
   "cell_type": "code",
   "execution_count": 16,
   "id": "cee9f5ea",
   "metadata": {},
   "outputs": [
    {
     "name": "stdout",
     "output_type": "stream",
     "text": [
      "MeCab Vocab Size: 238594\n"
     ]
    }
   ],
   "source": [
    "mecab_tensor, mecab_tokenizer = tokenize(mecab_corpus)\n",
    "print(\"MeCab Vocab Size:\", len(mecab_tokenizer.index_word))"
   ]
  },
  {
   "cell_type": "code",
   "execution_count": 17,
   "id": "d1b597d9",
   "metadata": {},
   "outputs": [
    {
     "name": "stderr",
     "output_type": "stream",
     "text": [
      "sentencepiece_trainer.cc(177) LOG(INFO) Running command: --input=/aiffel/aiffel/sp_tokenizer/data/korean-english-park.train.ko.temp --model_prefix=korean_spm --vocab_size=8000\n",
      "sentencepiece_trainer.cc(77) LOG(INFO) Starts training with : \n",
      "trainer_spec {\n",
      "  input: /aiffel/aiffel/sp_tokenizer/data/korean-english-park.train.ko.temp\n",
      "  input_format: \n",
      "  model_prefix: korean_spm\n",
      "  model_type: UNIGRAM\n",
      "  vocab_size: 8000\n",
      "  self_test_sample_size: 0\n",
      "  character_coverage: 0.9995\n",
      "  input_sentence_size: 0\n",
      "  shuffle_input_sentence: 1\n",
      "  seed_sentencepiece_size: 1000000\n",
      "  shrinking_factor: 0.75\n",
      "  max_sentence_length: 4192\n",
      "  num_threads: 16\n",
      "  num_sub_iterations: 2\n",
      "  max_sentencepiece_length: 16\n",
      "  split_by_unicode_script: 1\n",
      "  split_by_number: 1\n",
      "  split_by_whitespace: 1\n",
      "  split_digits: 0\n",
      "  treat_whitespace_as_suffix: 0\n",
      "  allow_whitespace_only_pieces: 0\n",
      "  required_chars: \n",
      "  byte_fallback: 0\n",
      "  vocabulary_output_piece_score: 1\n",
      "  train_extremely_large_corpus: 0\n",
      "  hard_vocab_limit: 1\n",
      "  use_all_vocab: 0\n",
      "  unk_id: 0\n",
      "  bos_id: 1\n",
      "  eos_id: 2\n",
      "  pad_id: -1\n",
      "  unk_piece: <unk>\n",
      "  bos_piece: <s>\n",
      "  eos_piece: </s>\n",
      "  pad_piece: <pad>\n",
      "  unk_surface:  ⁇ \n",
      "}\n",
      "normalizer_spec {\n",
      "  name: nmt_nfkc\n",
      "  add_dummy_prefix: 1\n",
      "  remove_extra_whitespaces: 1\n",
      "  escape_whitespaces: 1\n",
      "  normalization_rule_tsv: \n",
      "}\n",
      "denormalizer_spec {}\n",
      "trainer_interface.cc(329) LOG(INFO) SentenceIterator is not specified. Using MultiFileSentenceIterator.\n",
      "trainer_interface.cc(178) LOG(INFO) Loading corpus: /aiffel/aiffel/sp_tokenizer/data/korean-english-park.train.ko.temp\n",
      "trainer_interface.cc(385) LOG(INFO) Loaded all 185303 sentences\n",
      "trainer_interface.cc(400) LOG(INFO) Adding meta_piece: <unk>\n",
      "trainer_interface.cc(400) LOG(INFO) Adding meta_piece: <s>\n",
      "trainer_interface.cc(400) LOG(INFO) Adding meta_piece: </s>\n",
      "trainer_interface.cc(405) LOG(INFO) Normalizing sentences...\n",
      "trainer_interface.cc(466) LOG(INFO) all chars count=7338992\n",
      "trainer_interface.cc(477) LOG(INFO) Done: 99.95% characters are covered.\n",
      "trainer_interface.cc(487) LOG(INFO) Alphabet size=1625\n",
      "trainer_interface.cc(488) LOG(INFO) Final character coverage=0.9995\n",
      "trainer_interface.cc(520) LOG(INFO) Done! preprocessed 185303 sentences.\n",
      "unigram_model_trainer.cc(139) LOG(INFO) Making suffix array...\n",
      "unigram_model_trainer.cc(143) LOG(INFO) Extracting frequent sub strings...\n",
      "unigram_model_trainer.cc(194) LOG(INFO) Initialized 525371 seed sentencepieces\n",
      "trainer_interface.cc(526) LOG(INFO) Tokenizing input sentences with whitespace: 185303\n",
      "trainer_interface.cc(537) LOG(INFO) Done! 538324\n",
      "unigram_model_trainer.cc(489) LOG(INFO) Using 538324 sentences for EM training\n",
      "unigram_model_trainer.cc(505) LOG(INFO) EM sub_iter=0 size=249169 obj=15.2503 num_tokens=1199649 num_tokens/piece=4.8146\n",
      "unigram_model_trainer.cc(505) LOG(INFO) EM sub_iter=1 size=222584 obj=14.1299 num_tokens=1207958 num_tokens/piece=5.42698\n",
      "unigram_model_trainer.cc(505) LOG(INFO) EM sub_iter=0 size=166820 obj=14.1699 num_tokens=1236038 num_tokens/piece=7.40941\n",
      "unigram_model_trainer.cc(505) LOG(INFO) EM sub_iter=1 size=166152 obj=14.0815 num_tokens=1237450 num_tokens/piece=7.4477\n",
      "unigram_model_trainer.cc(505) LOG(INFO) EM sub_iter=0 size=124593 obj=14.2061 num_tokens=1271724 num_tokens/piece=10.207\n",
      "unigram_model_trainer.cc(505) LOG(INFO) EM sub_iter=1 size=124438 obj=14.1298 num_tokens=1272704 num_tokens/piece=10.2276\n",
      "unigram_model_trainer.cc(505) LOG(INFO) EM sub_iter=0 size=93327 obj=14.2565 num_tokens=1306268 num_tokens/piece=13.9967\n",
      "unigram_model_trainer.cc(505) LOG(INFO) EM sub_iter=1 size=93117 obj=14.2068 num_tokens=1306481 num_tokens/piece=14.0305\n",
      "unigram_model_trainer.cc(505) LOG(INFO) EM sub_iter=0 size=69837 obj=14.3873 num_tokens=1348181 num_tokens/piece=19.3047\n",
      "unigram_model_trainer.cc(505) LOG(INFO) EM sub_iter=1 size=69836 obj=14.3409 num_tokens=1348457 num_tokens/piece=19.3089\n",
      "unigram_model_trainer.cc(505) LOG(INFO) EM sub_iter=0 size=52377 obj=14.5965 num_tokens=1401056 num_tokens/piece=26.7495\n",
      "unigram_model_trainer.cc(505) LOG(INFO) EM sub_iter=1 size=52377 obj=14.5411 num_tokens=1401312 num_tokens/piece=26.7543\n",
      "unigram_model_trainer.cc(505) LOG(INFO) EM sub_iter=0 size=39282 obj=14.8303 num_tokens=1459589 num_tokens/piece=37.1567\n",
      "unigram_model_trainer.cc(505) LOG(INFO) EM sub_iter=1 size=39282 obj=14.7694 num_tokens=1460364 num_tokens/piece=37.1764\n",
      "unigram_model_trainer.cc(505) LOG(INFO) EM sub_iter=0 size=29461 obj=15.0993 num_tokens=1528450 num_tokens/piece=51.8805\n",
      "unigram_model_trainer.cc(505) LOG(INFO) EM sub_iter=1 size=29461 obj=15.0271 num_tokens=1529697 num_tokens/piece=51.9228\n",
      "unigram_model_trainer.cc(505) LOG(INFO) EM sub_iter=0 size=22095 obj=15.383 num_tokens=1607359 num_tokens/piece=72.7476\n",
      "unigram_model_trainer.cc(505) LOG(INFO) EM sub_iter=1 size=22095 obj=15.2979 num_tokens=1607886 num_tokens/piece=72.7715\n",
      "unigram_model_trainer.cc(505) LOG(INFO) EM sub_iter=0 size=16571 obj=15.6767 num_tokens=1687308 num_tokens/piece=101.823\n",
      "unigram_model_trainer.cc(505) LOG(INFO) EM sub_iter=1 size=16571 obj=15.5847 num_tokens=1687358 num_tokens/piece=101.826\n",
      "unigram_model_trainer.cc(505) LOG(INFO) EM sub_iter=0 size=12428 obj=15.9858 num_tokens=1770382 num_tokens/piece=142.451\n",
      "unigram_model_trainer.cc(505) LOG(INFO) EM sub_iter=1 size=12428 obj=15.8786 num_tokens=1770413 num_tokens/piece=142.454\n",
      "unigram_model_trainer.cc(505) LOG(INFO) EM sub_iter=0 size=9321 obj=16.3218 num_tokens=1852744 num_tokens/piece=198.771\n",
      "unigram_model_trainer.cc(505) LOG(INFO) EM sub_iter=1 size=9321 obj=16.2187 num_tokens=1853020 num_tokens/piece=198.801\n",
      "unigram_model_trainer.cc(505) LOG(INFO) EM sub_iter=0 size=8800 obj=16.3084 num_tokens=1868212 num_tokens/piece=212.297\n",
      "unigram_model_trainer.cc(505) LOG(INFO) EM sub_iter=1 size=8800 obj=16.2876 num_tokens=1868215 num_tokens/piece=212.297\n",
      "trainer_interface.cc(615) LOG(INFO) Saving model: korean_spm.model\n",
      "trainer_interface.cc(626) LOG(INFO) Saving vocabs: korean_spm.vocab\n"
     ]
    },
    {
     "name": "stdout",
     "output_type": "stream",
     "text": [
      "-rw-r--r-- 1 root root 368450 Feb 22 07:19 korean_spm.model\r\n",
      "-rw-r--r-- 1 root root 137855 Feb 22 07:19 korean_spm.vocab\r\n"
     ]
    }
   ],
   "source": [
    "import sentencepiece as spm\n",
    "import os\n",
    "\n",
    "temp_file = os.getenv('HOME')+'/aiffel/sp_tokenizer/data/korean-english-park.train.ko.temp'\n",
    "\n",
    "vocab_size = 8000\n",
    "\n",
    "with open(temp_file, 'w') as f:\n",
    "    for row in filtered_corpus:   # 이전 스텝에서 정제했던 corpus를 활용합니다.\n",
    "        f.write(str(row) + '\\n')\n",
    "\n",
    "spm.SentencePieceTrainer.Train(\n",
    "    '--input={} --model_prefix=korean_spm --vocab_size={}'.format(temp_file, vocab_size)    \n",
    ")\n",
    "\n",
    "!ls -l korean_spm*"
   ]
  },
  {
   "cell_type": "code",
   "execution_count": 18,
   "id": "ee4f9437",
   "metadata": {},
   "outputs": [
    {
     "name": "stdout",
     "output_type": "stream",
     "text": [
      "[2647, 14, 357, 22, 2358, 14, 131, 23, 6]\n",
      "['▁아버지', '가', '방', '에', '들어', '가', '신', '다', '.']\n",
      "아버지가방에들어가신다.\n"
     ]
    }
   ],
   "source": [
    "\n",
    "s = spm.SentencePieceProcessor()\n",
    "s.Load('korean_spm.model')\n",
    "\n",
    "# SentencePiece를 활용한 sentence -> encoding\n",
    "tokensIDs = s.EncodeAsIds('아버지가방에들어가신다.')\n",
    "print(tokensIDs)\n",
    "\n",
    "# SentencePiece를 활용한 sentence -> encoded pieces\n",
    "print(s.SampleEncodeAsPieces('아버지가방에들어가신다.',1, 0.0))\n",
    "\n",
    "# SentencePiece를 활용한 encoding -> sentence 복원\n",
    "print(s.DecodeIds(tokensIDs))\n"
   ]
  },
  {
   "cell_type": "code",
   "execution_count": 20,
   "id": "045fbd8d",
   "metadata": {},
   "outputs": [],
   "source": [
    "def sp_tokenize(s, corpus):\n",
    "\n",
    "    tensor = []\n",
    "\n",
    "    for sen in corpus:\n",
    "        tensor.append(s.EncodeAsIds(sen))\n",
    "\n",
    "    with open(\"./korean_spm.vocab\", 'r') as f:\n",
    "        vocab = f.readlines()\n",
    "\n",
    "    word_index = {}\n",
    "    index_word = {}\n",
    "\n",
    "    for idx, line in enumerate(vocab):\n",
    "        word = line.split(\"\\t\")[0]\n",
    "\n",
    "        word_index.update({word:idx})\n",
    "        index_word.update({idx:word})\n",
    "\n",
    "    tensor = tf.keras.preprocessing.sequence.pad_sequences(tensor, padding='post')\n",
    "\n",
    "    return tensor, word_index, index_word"
   ]
  },
  {
   "cell_type": "code",
   "execution_count": 21,
   "id": "3229f711",
   "metadata": {},
   "outputs": [
    {
     "name": "stdout",
     "output_type": "stream",
     "text": [
      "[[  55 4653 3094    0    0    0]\n",
      " [  55 4653   55 4653    4 3094]]\n"
     ]
    }
   ],
   "source": [
    "my_corpus = ['안녕하세요', '안녕 안녕 하세요']\n",
    "tensor, word_index, index_word = sp_tokenize(s, my_corpus)\n",
    "print(tensor)"
   ]
  },
  {
   "cell_type": "code",
   "execution_count": null,
   "id": "22de4f2e",
   "metadata": {},
   "outputs": [],
   "source": []
  }
 ],
 "metadata": {
  "kernelspec": {
   "display_name": "Python 3 (ipykernel)",
   "language": "python",
   "name": "python3"
  },
  "language_info": {
   "codemirror_mode": {
    "name": "ipython",
    "version": 3
   },
   "file_extension": ".py",
   "mimetype": "text/x-python",
   "name": "python",
   "nbconvert_exporter": "python",
   "pygments_lexer": "ipython3",
   "version": "3.9.7"
  }
 },
 "nbformat": 4,
 "nbformat_minor": 5
}
